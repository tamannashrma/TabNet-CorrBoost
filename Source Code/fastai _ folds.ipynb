{
 "cells": [
  {
   "cell_type": "code",
   "execution_count": 1,
   "id": "088efb42",
   "metadata": {},
   "outputs": [],
   "source": [
    "import numpy as np\n",
    "import pandas as pd\n",
    "from sklearn.neighbors import KNeighborsClassifier\n",
    "from sklearn.model_selection import train_test_split, StratifiedKFold\n",
    "from sklearn.preprocessing import MinMaxScaler,StandardScaler,RobustScaler\n",
    "from sklearn.metrics import accuracy_score,roc_auc_score,average_precision_score,f1_score,roc_curve,auc\n",
    "import matplotlib.pyplot as plt\n",
    "import warnings\n",
    "warnings.filterwarnings('ignore')\n",
    "from fastai.tabular.all import *\n",
    "from collections import Counter\n",
    "import itertools\n",
    "import os\n",
    "from imblearn.over_sampling import SMOTE,ADASYN,SVMSMOTE\n",
    "from statistics import mean \n",
    "import warnings\n",
    "warnings.filterwarnings('ignore')\n",
    "from imblearn.combine import SMOTETomek,SMOTEENN\n",
    "from matplotlib import pyplot as plt\n"
   ]
  },
  {
   "cell_type": "code",
   "execution_count": 3,
   "id": "b844288b",
   "metadata": {},
   "outputs": [],
   "source": [
    "p = \"TMGWO\"\n",
    "x = \"NASA/\" + p\n",
    "loc_fs_df = \"C:/Users/shubh/Desktop/XGB DNN/df after fs/AEEEM\"\n",
    "loc_orig = \"C:/Users/shubh/Desktop/XGB DNN/Dataset/AEEEM_corred_duplicate-Copy\""
   ]
  },
  {
   "cell_type": "code",
   "execution_count": 7,
   "id": "cb18542a",
   "metadata": {},
   "outputs": [
    {
     "ename": "NameError",
     "evalue": "name 'BCEWithLogitsLoss' is not defined",
     "output_type": "error",
     "traceback": [
      "\u001b[1;31m---------------------------------------------------------------------------\u001b[0m",
      "\u001b[1;31mNameError\u001b[0m                                 Traceback (most recent call last)",
      "\u001b[1;32m~\\AppData\\Local\\Temp/ipykernel_10884/2394856544.py\u001b[0m in \u001b[0;36m<module>\u001b[1;34m\u001b[0m\n\u001b[0;32m     67\u001b[0m             learner = tabular_learner(dls, layers=[512,256],\n\u001b[0;32m     68\u001b[0m                                       \u001b[0mmetrics\u001b[0m\u001b[1;33m=\u001b[0m\u001b[0maccuracy\u001b[0m\u001b[1;33m,\u001b[0m\u001b[1;33m\u001b[0m\u001b[1;33m\u001b[0m\u001b[0m\n\u001b[1;32m---> 69\u001b[1;33m                                       \u001b[0mloss_func\u001b[0m\u001b[1;33m=\u001b[0m\u001b[0mBCEWithLogitsLoss\u001b[0m\u001b[1;33m(\u001b[0m\u001b[1;33m)\u001b[0m\u001b[1;33m\u001b[0m\u001b[1;33m\u001b[0m\u001b[0m\n\u001b[0m\u001b[0;32m     70\u001b[0m \u001b[1;33m\u001b[0m\u001b[0m\n\u001b[0;32m     71\u001b[0m \u001b[1;33m\u001b[0m\u001b[0m\n",
      "\u001b[1;31mNameError\u001b[0m: name 'BCEWithLogitsLoss' is not defined"
     ]
    }
   ],
   "source": [
    "skf = StratifiedKFold(n_splits=10)\n",
    "sampler = SMOTETomek(n_jobs=-1,random_state=0)\n",
    "scaler = MinMaxScaler()\n",
    "\n",
    "dx = pd.DataFrame()\n",
    "fname = []\n",
    "l=[]\n",
    "m=[]\n",
    "n=[]\n",
    "dy= pd.DataFrame()\n",
    "for file in os.listdir(loc_fs_df):\n",
    "     #if file.endswith('_16.csv'):\n",
    "        dr = pd.DataFrame()\n",
    "    \n",
    "        fname.append(file.split('.csv')[0])\n",
    "        df_orig = pd.read_csv(os.path.join(loc_fs_df,file))\n",
    "        df_orig = df_orig.iloc[:,1:]\n",
    "        X_orig = df_orig.iloc[:,:-1]\n",
    "        y_orig = df_orig.iloc[:,-1]\n",
    "\n",
    "        a=[]\n",
    "        b=[]\n",
    "        c=[]\n",
    "\n",
    "        e=[]\n",
    "        k = 0\n",
    "        for train_index, test_index in skf.split(X_orig, y_orig):\n",
    "\n",
    "            xtrain, xtest = X_orig.iloc[train_index], X_orig.iloc[test_index]\n",
    "            ytrain, ytest = y_orig.iloc[train_index], y_orig.iloc[test_index]    \n",
    "            \n",
    "\n",
    "            cont_names = X_orig.columns.tolist()\n",
    "            #cont_names.remove('Defective')\n",
    "            \n",
    "#             X_train_sm,y_train_sm = sampler.fit_resample(xtrain,ytrain)\n",
    "            \n",
    "#             i  = scaler.fit_transform(X_train_sm)\n",
    "#             j  = scaler.transform(xtest)\n",
    "#             X_train_sm_sc = pd.DataFrame(i,columns=X_orig.columns)\n",
    "#             X_test_sm_sc  = pd.DataFrame(j,columns=X_orig.columns)\n",
    "           \n",
    "            df_train = pd.concat([xtrain,ytrain],axis=1)\n",
    "            #df_train.columns = df_orig.columns.tolist()\n",
    "            df_test = pd.concat([xtest,ytest],axis=1)\n",
    "            #df_test.columns = df_orig.columns.tolist()\n",
    "\n",
    "#             X = df_train.iloc[:,:-1]\n",
    "#             y = df_train.iloc[:,-1]\n",
    "\n",
    "#             X_train,X_test,y_train,y_test = train_test_split(X,y,test_size=0.2,random_state=0,stratify=y)\n",
    "\n",
    "#             df_train1 = pd.concat([X_train,y_train],axis = 1)\n",
    "\n",
    "#             X_train_sm,y_train_sm = sampler.fit_resample(X_train,y_train)\n",
    "\n",
    "#             df_train_sm = pd.concat([X_train_sm,y_train_sm],axis = 1)\n",
    "            \n",
    "\n",
    "            b1 = int(xtrain.shape[0]/4)\n",
    "\n",
    "            dls = TabularDataLoaders.from_df(df_train, y_names=\"Defective\",bs=64,\n",
    "                                            cont_names = cont_names,\n",
    "                                            procs = [Categorify, FillMissing, Normalize],\n",
    "                                            y_block = CategoryBlock())\n",
    "            set_seed(0)\n",
    "            learner = tabular_learner(dls, layers=[512,256],\n",
    "                                      metrics=accuracy,\n",
    "                                      loss_func=BCEWithLogitsLoss()\n",
    "                              \n",
    "                                      \n",
    "                            \n",
    "                                      \n",
    "                                      \n",
    "                                      \n",
    "                                      \n",
    "                                      \n",
    "                                     )                                      \n",
    "\n",
    "            lr_min, lr_steep, lr_valley, lr_slide = learner.lr_find(suggest_funcs=(minimum, steep, valley, slide))\n",
    "           \n",
    "            fig = 'C:/Users/shubh/Desktop/XGB DNN/Results/NASA/DNN//' + str(file.split(\".csv\")[0]) + \"_\" + str(k) + \".jpg\"\n",
    "            plt.savefig(fig)\n",
    "            k=k+1\n",
    "\n",
    "            learner.fit_one_cycle(1000,lr_max = lr_valley,\n",
    "                                  cbs=[EarlyStoppingCallback(monitor='valid_loss', min_delta=0.001, patience=50),\n",
    "                                    SaveModelCallback(monitor='valid_loss', min_delta=0.001)])\n",
    "\n",
    "\n",
    "            test_dl = learner.dls.test_dl(df_test)\n",
    "            preds,y1 = learner.get_preds(dl=test_dl)\n",
    "            probs = np.exp(preds[:,1])\n",
    "            acc = accuracy(preds,y1)\n",
    "            fpr, tpr, thresholds = roc_curve(y1, probs, pos_label=1)\n",
    "            roc = auc(fpr, tpr)\n",
    "            prc = average_precision_score(y1,probs)\n",
    "\n",
    "\n",
    "            a.append(acc.item())\n",
    "            b.append(roc)\n",
    "            c.append(prc)\n",
    "#         a = [m for m in a if m in sorted(a)[-9:]]\n",
    "#         b = [m for m in b if m in sorted(b)[-9:]]\n",
    "#         c = [m for m in c if m in sorted(c)[-9:]]\n",
    "        #for i in [mean(a),mean(b),mean(c)]:\n",
    "            #e.append(i)\n",
    "        dr = pd.concat([dr,pd.Series(a),pd.Series(b),pd.Series(c)],axis=1)\n",
    "        dr.columns = ['Accuracy','ROC','AUPRC']\n",
    "        dr.index = ['Fold1','Fold2','Fold3','Fold4',\n",
    "                       'Fold5','Fold6','Fold7','Fold8','Fold9','Fold10']\n",
    "        loc_results = 'C:/Users/shubh/Desktop/XGB DNN/Results/NASA/DNN/' + str(file)\n",
    "        dr.to_csv(loc_results)\n",
    "        dx = pd.concat([dx,pd.Series(min(a)),pd.Series(mean(a)),pd.Series(max(a)),\n",
    "                   pd.Series(min(b)),pd.Series(mean(b)),pd.Series(max(b)),\n",
    "                   pd.Series(min(c)),pd.Series(mean(c)),pd.Series(max(c))])\n",
    "        l.append(mean(a))\n",
    "        m.append(mean(b))\n",
    "        n.append(mean(c))\n",
    "dx.to_csv('C:/Users/shubh/Desktop/XGB DNN/Results/NASA//dnn.csv')\n",
    "    \n",
    "dy = pd.concat([dy,pd.Series(l),pd.Series(m),pd.Series(n)],axis=1)\n",
    "dy.columns = ['Accuracy','ROC','AUPRC']\n",
    "dy.index = fname\n",
    "dy.to_csv('C:/Users/shubh/Desktop/XGB DNN/Results/NASA//dnn_mean.csv')\n",
    "    "
   ]
  },
  {
   "cell_type": "code",
   "execution_count": 5,
   "id": "4aa74248",
   "metadata": {},
   "outputs": [
    {
     "data": {
      "text/plain": [
       "[0.8718316594930655,\n",
       " 0.9439890710382514,\n",
       " 0.9002732240437159,\n",
       " 0.942167577413479,\n",
       " 0.9025500910746812,\n",
       " 0.8656648451730419,\n",
       " 0.8991347905282332,\n",
       " 0.9635701275045537,\n",
       " 0.8897996357012751,\n",
       " 0.9238187078109932]"
      ]
     },
     "execution_count": 5,
     "metadata": {},
     "output_type": "execute_result"
    }
   ],
   "source": [
    "dy.to_csv('C:/Users/shubh/Desktop/XGB DNN/Results/NASA/DNN/fs/dnn_mean.csv')\n",
    "b"
   ]
  },
  {
   "cell_type": "code",
   "execution_count": 10,
   "id": "245b01fb",
   "metadata": {
    "scrolled": true
   },
   "outputs": [],
   "source": [
    "dy.columns = ['Accuracy','ROC','AUPRC']\n",
    "dy.index = fname\n",
    "dy.to_csv('C:/Users/shubh/Desktop/XGB DNN/Results/NASA/DNN/dnn_mean.csv')"
   ]
  },
  {
   "cell_type": "code",
   "execution_count": 4,
   "id": "32b20635",
   "metadata": {},
   "outputs": [
    {
     "data": {
      "text/html": [
       "<div>\n",
       "<style scoped>\n",
       "    .dataframe tbody tr th:only-of-type {\n",
       "        vertical-align: middle;\n",
       "    }\n",
       "\n",
       "    .dataframe tbody tr th {\n",
       "        vertical-align: top;\n",
       "    }\n",
       "\n",
       "    .dataframe thead th {\n",
       "        text-align: right;\n",
       "    }\n",
       "</style>\n",
       "<table border=\"1\" class=\"dataframe\">\n",
       "  <thead>\n",
       "    <tr style=\"text-align: right;\">\n",
       "      <th></th>\n",
       "      <th>Accuracy</th>\n",
       "      <th>ROC</th>\n",
       "      <th>AUPRC</th>\n",
       "    </tr>\n",
       "  </thead>\n",
       "  <tbody>\n",
       "    <tr>\n",
       "      <th>Fold1</th>\n",
       "      <td>0.864286</td>\n",
       "      <td>0.799617</td>\n",
       "      <td>0.405206</td>\n",
       "    </tr>\n",
       "    <tr>\n",
       "      <th>Fold2</th>\n",
       "      <td>0.900000</td>\n",
       "      <td>0.935792</td>\n",
       "      <td>0.703458</td>\n",
       "    </tr>\n",
       "    <tr>\n",
       "      <th>Fold3</th>\n",
       "      <td>0.914286</td>\n",
       "      <td>0.899818</td>\n",
       "      <td>0.665703</td>\n",
       "    </tr>\n",
       "    <tr>\n",
       "      <th>Fold4</th>\n",
       "      <td>0.900000</td>\n",
       "      <td>0.925774</td>\n",
       "      <td>0.689916</td>\n",
       "    </tr>\n",
       "    <tr>\n",
       "      <th>Fold5</th>\n",
       "      <td>0.914286</td>\n",
       "      <td>0.929872</td>\n",
       "      <td>0.754040</td>\n",
       "    </tr>\n",
       "    <tr>\n",
       "      <th>Fold6</th>\n",
       "      <td>0.907143</td>\n",
       "      <td>0.916667</td>\n",
       "      <td>0.697148</td>\n",
       "    </tr>\n",
       "    <tr>\n",
       "      <th>Fold7</th>\n",
       "      <td>0.864286</td>\n",
       "      <td>0.878643</td>\n",
       "      <td>0.612493</td>\n",
       "    </tr>\n",
       "    <tr>\n",
       "      <th>Fold8</th>\n",
       "      <td>0.928571</td>\n",
       "      <td>0.963570</td>\n",
       "      <td>0.835161</td>\n",
       "    </tr>\n",
       "    <tr>\n",
       "      <th>Fold9</th>\n",
       "      <td>0.892857</td>\n",
       "      <td>0.871129</td>\n",
       "      <td>0.656806</td>\n",
       "    </tr>\n",
       "    <tr>\n",
       "      <th>Fold10</th>\n",
       "      <td>0.892086</td>\n",
       "      <td>0.939730</td>\n",
       "      <td>0.620880</td>\n",
       "    </tr>\n",
       "  </tbody>\n",
       "</table>\n",
       "</div>"
      ],
      "text/plain": [
       "        Accuracy       ROC     AUPRC\n",
       "Fold1   0.864286  0.799617  0.405206\n",
       "Fold2   0.900000  0.935792  0.703458\n",
       "Fold3   0.914286  0.899818  0.665703\n",
       "Fold4   0.900000  0.925774  0.689916\n",
       "Fold5   0.914286  0.929872  0.754040\n",
       "Fold6   0.907143  0.916667  0.697148\n",
       "Fold7   0.864286  0.878643  0.612493\n",
       "Fold8   0.928571  0.963570  0.835161\n",
       "Fold9   0.892857  0.871129  0.656806\n",
       "Fold10  0.892086  0.939730  0.620880"
      ]
     },
     "execution_count": 4,
     "metadata": {},
     "output_type": "execute_result"
    }
   ],
   "source": [
    "dr"
   ]
  },
  {
   "cell_type": "code",
   "execution_count": 5,
   "id": "3e01030f",
   "metadata": {},
   "outputs": [],
   "source": [
    "dx.to_csv(\"1.csv\")"
   ]
  },
  {
   "cell_type": "code",
   "execution_count": 6,
   "id": "63262f84",
   "metadata": {},
   "outputs": [
    {
     "data": {
      "text/plain": [
       "['cm1', 'jm1', 'kc1', 'kc3', 'mc1', 'mc2', 'mw1', 'pc1', 'pc2', 'pc3', 'pc4']"
      ]
     },
     "execution_count": 6,
     "metadata": {},
     "output_type": "execute_result"
    }
   ],
   "source": [
    "fname.to"
   ]
  },
  {
   "cell_type": "code",
   "execution_count": null,
   "id": "33a331ce",
   "metadata": {},
   "outputs": [],
   "source": [
    "file"
   ]
  },
  {
   "cell_type": "code",
   "execution_count": null,
   "id": "f73cf8b3",
   "metadata": {},
   "outputs": [],
   "source": []
  }
 ],
 "metadata": {
  "kernelspec": {
   "display_name": "Python 3 (ipykernel)",
   "language": "python",
   "name": "python3"
  },
  "language_info": {
   "codemirror_mode": {
    "name": "ipython",
    "version": 3
   },
   "file_extension": ".py",
   "mimetype": "text/x-python",
   "name": "python",
   "nbconvert_exporter": "python",
   "pygments_lexer": "ipython3",
   "version": "3.9.7"
  }
 },
 "nbformat": 4,
 "nbformat_minor": 5
}
