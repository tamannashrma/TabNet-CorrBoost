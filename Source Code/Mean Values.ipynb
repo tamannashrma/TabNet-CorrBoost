{
 "cells": [
  {
   "cell_type": "code",
   "execution_count": 22,
   "id": "f0af454e",
   "metadata": {},
   "outputs": [],
   "source": [
    "import os\n",
    "import pandas as pd\n",
    "loc = r\"C:\\Users\\shubh\\Desktop\\XGB DNN\\Results\\NASA\\baseclfs_fs\"\n",
    "g=[]\n",
    "dr=pd.DataFrame()\n",
    "for f in os.listdir(loc):\n",
    "    if f.endswith(\".csv\"):\n",
    "        df = pd.read_csv(os.path.join(loc,f))\n",
    "        dx = df.iloc[[1,4,7]]\n",
    "        c = dx['RF']\n",
    "        dr = pd.concat([dr,c],axis=1)\n",
    "        g.append(f.split(\".csv\")[0])\n",
    "dr.columns = g\n",
    "dr.index = ['Accuracy','ROC','AUPRC']\n",
    "dr.to_csv(r\"C:\\Users\\shubh\\Desktop\\XGB DNN\\NASA_MEAN_FS.csv\")"
   ]
  },
  {
   "cell_type": "code",
   "execution_count": 21,
   "id": "8cc55837",
   "metadata": {},
   "outputs": [
    {
     "data": {
      "text/html": [
       "<div>\n",
       "<style scoped>\n",
       "    .dataframe tbody tr th:only-of-type {\n",
       "        vertical-align: middle;\n",
       "    }\n",
       "\n",
       "    .dataframe tbody tr th {\n",
       "        vertical-align: top;\n",
       "    }\n",
       "\n",
       "    .dataframe thead th {\n",
       "        text-align: right;\n",
       "    }\n",
       "</style>\n",
       "<table border=\"1\" class=\"dataframe\">\n",
       "  <thead>\n",
       "    <tr style=\"text-align: right;\">\n",
       "      <th></th>\n",
       "      <th>cm1</th>\n",
       "      <th>jm1</th>\n",
       "      <th>kc1</th>\n",
       "      <th>kc3</th>\n",
       "      <th>mc1</th>\n",
       "      <th>mc2</th>\n",
       "      <th>mw1</th>\n",
       "      <th>pc1</th>\n",
       "      <th>pc2</th>\n",
       "      <th>pc3</th>\n",
       "      <th>pc4</th>\n",
       "    </tr>\n",
       "  </thead>\n",
       "  <tbody>\n",
       "    <tr>\n",
       "      <th>Accuracy</th>\n",
       "      <td>0.822437</td>\n",
       "      <td>0.754930</td>\n",
       "      <td>0.825382</td>\n",
       "      <td>0.800000</td>\n",
       "      <td>0.983184</td>\n",
       "      <td>0.755128</td>\n",
       "      <td>0.841453</td>\n",
       "      <td>0.893246</td>\n",
       "      <td>0.984237</td>\n",
       "      <td>0.839143</td>\n",
       "      <td>0.902765</td>\n",
       "    </tr>\n",
       "    <tr>\n",
       "      <th>ROC</th>\n",
       "      <td>0.760089</td>\n",
       "      <td>0.747277</td>\n",
       "      <td>0.814794</td>\n",
       "      <td>0.778891</td>\n",
       "      <td>0.959099</td>\n",
       "      <td>0.785556</td>\n",
       "      <td>0.698294</td>\n",
       "      <td>0.843021</td>\n",
       "      <td>0.870164</td>\n",
       "      <td>0.844592</td>\n",
       "      <td>0.937331</td>\n",
       "    </tr>\n",
       "    <tr>\n",
       "      <th>AUPRC</th>\n",
       "      <td>0.369135</td>\n",
       "      <td>0.428721</td>\n",
       "      <td>0.472375</td>\n",
       "      <td>0.518489</td>\n",
       "      <td>0.323399</td>\n",
       "      <td>0.780855</td>\n",
       "      <td>0.397747</td>\n",
       "      <td>0.402711</td>\n",
       "      <td>0.340148</td>\n",
       "      <td>0.416435</td>\n",
       "      <td>0.656647</td>\n",
       "    </tr>\n",
       "  </tbody>\n",
       "</table>\n",
       "</div>"
      ],
      "text/plain": [
       "               cm1       jm1       kc1       kc3       mc1       mc2  \\\n",
       "Accuracy  0.822437  0.754930  0.825382  0.800000  0.983184  0.755128   \n",
       "ROC       0.760089  0.747277  0.814794  0.778891  0.959099  0.785556   \n",
       "AUPRC     0.369135  0.428721  0.472375  0.518489  0.323399  0.780855   \n",
       "\n",
       "               mw1       pc1       pc2       pc3       pc4  \n",
       "Accuracy  0.841453  0.893246  0.984237  0.839143  0.902765  \n",
       "ROC       0.698294  0.843021  0.870164  0.844592  0.937331  \n",
       "AUPRC     0.397747  0.402711  0.340148  0.416435  0.656647  "
      ]
     },
     "execution_count": 21,
     "metadata": {},
     "output_type": "execute_result"
    }
   ],
   "source": [
    "dr"
   ]
  },
  {
   "cell_type": "code",
   "execution_count": null,
   "id": "98a5be69",
   "metadata": {},
   "outputs": [],
   "source": []
  }
 ],
 "metadata": {
  "kernelspec": {
   "display_name": "Python 3 (ipykernel)",
   "language": "python",
   "name": "python3"
  },
  "language_info": {
   "codemirror_mode": {
    "name": "ipython",
    "version": 3
   },
   "file_extension": ".py",
   "mimetype": "text/x-python",
   "name": "python",
   "nbconvert_exporter": "python",
   "pygments_lexer": "ipython3",
   "version": "3.9.7"
  }
 },
 "nbformat": 4,
 "nbformat_minor": 5
}
