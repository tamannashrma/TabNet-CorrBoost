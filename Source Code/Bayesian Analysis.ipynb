{
 "cells": [
  {
   "cell_type": "code",
   "execution_count": 1,
   "id": "f4441d24",
   "metadata": {},
   "outputs": [],
   "source": [
    "import numpy as np\n",
    "import pandas as pd\n",
    "import matplotlib.pyplot as plt\n",
    "from autorank import autorank, plot_stats, create_report, latex_table\n",
    "from baycomp import SignedRankTest"
   ]
  },
  {
   "cell_type": "code",
   "execution_count": null,
   "id": "463e7ad3",
   "metadata": {},
   "outputs": [],
   "source": []
  },
  {
   "cell_type": "code",
   "execution_count": 19,
   "id": "3a501103",
   "metadata": {},
   "outputs": [
    {
     "name": "stdout",
     "output_type": "stream",
     "text": [
      "        SVM        NB       KNN        DT       XGB       LGB      ACNN  \\\n",
      "0  0.824923  0.831949  0.795424  0.691231  0.850043  0.845531  0.842406   \n",
      "1  0.858500  0.833881  0.840305  0.722289  0.860889  0.861945  0.856468   \n",
      "2  0.771425  0.803862  0.782647  0.654864  0.780297  0.771908  0.803012   \n",
      "3  0.783287  0.735413  0.776945  0.622437  0.822231  0.828526  0.796764   \n",
      "4  0.725944  0.761702  0.710550  0.596410  0.749537  0.751260  0.748712   \n",
      "\n",
      "        DNN  \n",
      "0  0.842422  \n",
      "1  0.859077  \n",
      "2  0.737277  \n",
      "3  0.788782  \n",
      "4  0.726667  \n",
      "Fail to reject null hypothesis that data is normal for column SVM (p=0.956726>=0.006250)\n",
      "Fail to reject null hypothesis that data is normal for column NB (p=0.373617>=0.006250)\n",
      "Fail to reject null hypothesis that data is normal for column KNN (p=0.699927>=0.006250)\n",
      "Fail to reject null hypothesis that data is normal for column DT (p=0.910631>=0.006250)\n",
      "Fail to reject null hypothesis that data is normal for column XGB (p=0.615548>=0.006250)\n",
      "Fail to reject null hypothesis that data is normal for column LGB (p=0.454985>=0.006250)\n",
      "Fail to reject null hypothesis that data is normal for column ACNN (p=0.736868>=0.006250)\n",
      "Fail to reject null hypothesis that data is normal for column DNN (p=0.401482>=0.006250)\n",
      "RankResult(rankdf=\n",
      "          mean       std  ci_lower  ci_upper effect_size   magnitude  p_equal  \\\n",
      "XGB   0.812600  0.047029   0.61948  1.005719         0.0  negligible      NaN   \n",
      "LGB   0.811834  0.047928  0.615021  1.008646    0.016131  negligible  0.97722   \n",
      "ACNN  0.809473  0.042392  0.635396   0.98355    0.069842  negligible  0.36668   \n",
      "NB    0.793361  0.043593  0.614352  0.972371    0.424276       small  0.03224   \n",
      "SVM   0.792816  0.050906  0.583778  1.001854    0.403701       small  0.02458   \n",
      "DNN   0.790845  0.059809  0.545247  1.036443    0.404359       small  0.05982   \n",
      "KNN   0.781174  0.046656  0.589585  0.972763    0.670864      medium  0.01566   \n",
      "DT    0.657446  0.050754  0.449033   0.86586    3.171131       large  0.00062   \n",
      "\n",
      "      p_smaller      decision  \n",
      "XGB         NaN            NA  \n",
      "LGB     0.01810         equal  \n",
      "ACNN    0.39854  inconclusive  \n",
      "NB      0.79900  inconclusive  \n",
      "SVM     0.97542       smaller  \n",
      "DNN     0.94018  inconclusive  \n",
      "KNN     0.98434       smaller  \n",
      "DT      0.99938       smaller  \n",
      "pvalue=None\n",
      "cd=None\n",
      "omnibus=bayes\n",
      "posthoc=bayes\n",
      "all_normal=True\n",
      "pvals_shapiro=[0.6155482530593872, 0.9106313586235046, 0.7368684411048889, 0.401481956243515, 0.956725537776947, 0.37361717224121094, 0.6999273896217346, 0.4549848139286041]\n",
      "homoscedastic=None\n",
      "pval_homogeneity=None\n",
      "homogeneity_test=None\n",
      "alpha=0.05\n",
      "alpha_normality=0.00625\n",
      "num_samples=5\n",
      "posterior_matrix=\n",
      "      XGB                         LGB                         ACNN  \\\n",
      "XGB   NaN  (0.0181, 0.97722, 0.00468)  (0.39854, 0.36668, 0.23478)   \n",
      "LGB   NaN                         NaN  (0.28638, 0.48796, 0.22566)   \n",
      "ACNN  NaN                         NaN                          NaN   \n",
      "NB    NaN                         NaN                          NaN   \n",
      "SVM   NaN                         NaN                          NaN   \n",
      "DNN   NaN                         NaN                          NaN   \n",
      "KNN   NaN                         NaN                          NaN   \n",
      "DT    NaN                         NaN                          NaN   \n",
      "\n",
      "                               NB                         SVM  \\\n",
      "XGB     (0.799, 0.03224, 0.16876)     (0.97542, 0.02458, 0.0)   \n",
      "LGB   (0.76376, 0.00458, 0.23166)     (0.88538, 0.11462, 0.0)   \n",
      "ACNN  (0.90094, 0.03634, 0.06272)     (0.98498, 0.01502, 0.0)   \n",
      "NB                            NaN  (0.4974, 0.01154, 0.49106)   \n",
      "SVM                           NaN                         NaN   \n",
      "DNN                           NaN                         NaN   \n",
      "KNN                           NaN                         NaN   \n",
      "DT                            NaN                         NaN   \n",
      "\n",
      "                              DNN                          KNN  \\\n",
      "XGB       (0.94018, 0.05982, 0.0)      (0.98434, 0.01566, 0.0)   \n",
      "LGB       (0.88548, 0.11452, 0.0)  (0.98862, 0.00106, 0.01032)   \n",
      "ACNN      (0.70182, 0.29818, 0.0)      (0.99944, 0.00056, 0.0)   \n",
      "NB      (0.47024, 0.00376, 0.526)  (0.82148, 0.00986, 0.16866)   \n",
      "SVM   (0.29486, 0.50316, 0.20198)   (0.9043, 0.06772, 0.02798)   \n",
      "DNN                           NaN  (0.82146, 0.00276, 0.17578)   \n",
      "KNN                           NaN                          NaN   \n",
      "DT                            NaN                          NaN   \n",
      "\n",
      "                           DT  \n",
      "XGB   (0.99938, 0.00062, 0.0)  \n",
      "LGB   (0.99922, 0.00078, 0.0)  \n",
      "ACNN  (0.99944, 0.00056, 0.0)  \n",
      "NB    (0.99946, 0.00054, 0.0)  \n",
      "SVM     (0.9992, 0.0008, 0.0)  \n",
      "DNN     (0.9992, 0.0008, 0.0)  \n",
      "KNN   (0.99948, 0.00052, 0.0)  \n",
      "DT                        NaN  \n",
      "decision_matrix=\n",
      "               XGB           LGB          ACNN            NB           SVM  \\\n",
      "XGB            NaN         equal  inconclusive  inconclusive       smaller   \n",
      "LGB          equal           NaN  inconclusive  inconclusive  inconclusive   \n",
      "ACNN  inconclusive  inconclusive           NaN  inconclusive       smaller   \n",
      "NB    inconclusive  inconclusive  inconclusive           NaN  inconclusive   \n",
      "SVM         larger  inconclusive        larger  inconclusive           NaN   \n",
      "DNN   inconclusive  inconclusive  inconclusive  inconclusive  inconclusive   \n",
      "KNN         larger        larger        larger  inconclusive  inconclusive   \n",
      "DT          larger        larger        larger        larger        larger   \n",
      "\n",
      "               DNN           KNN       DT  \n",
      "XGB   inconclusive       smaller  smaller  \n",
      "LGB   inconclusive       smaller  smaller  \n",
      "ACNN  inconclusive       smaller  smaller  \n",
      "NB    inconclusive  inconclusive  smaller  \n",
      "SVM   inconclusive  inconclusive  smaller  \n",
      "DNN            NaN  inconclusive  smaller  \n",
      "KNN   inconclusive           NaN  smaller  \n",
      "DT          larger        larger      NaN  \n",
      "rope=0.1\n",
      "rope_mode=effsize\n",
      "effect_size=cohen_d)\n"
     ]
    }
   ],
   "source": [
    "data = pd.read_excel(r\"C:/Users/shubh/Desktop/1dcnn/AUC_boruta.xlsx\")\n",
    "data = data.iloc[:,1:]\n",
    "print(data)\n",
    "result = autorank(data, alpha=0.05, verbose=True,approach='bayesian',rope = 0.1)\n",
    "print(result)\n",
    "#SignedRankTest.plot(data['SVM'],data['NB'],rope=0.02,names=(\"SVM\", \"NB\"))"
   ]
  },
  {
   "cell_type": "code",
   "execution_count": 20,
   "id": "2112f5d2",
   "metadata": {},
   "outputs": [
    {
     "name": "stdout",
     "output_type": "stream",
     "text": [
      "The statistical analysis was conducted for 8 populations with 5 paired samples.\n",
      "The family-wise significance level of the tests is alpha=0.050.\n",
      "We failed to reject the null hypothesis that the population is normal for all populations (minimal observed p-value=0.374). Therefore, we assume that all populations are normal.\n",
      "We used a bayesian signed rank test to determine differences between the mean values of the populations and report the mean value (M) and the standard deviation (SD) for each population. We distinguish between populations being pair-wise smaller, equal, or larger and make a decision for one of these cases if we estimate that the posterior probability is at least alpha=0.050.\n",
      "We used the effect size to define the region of practical equivalence (ROPE) around the mean value dynamically as 0.100*d.\n",
      "We found significant and practically relevant differences between the populations XGB (M=0.813+-0.193, SD=0.047), LGB (M=0.812+-0.197, SD=0.048), ACNN (M=0.809+-0.174, SD=0.042), NB (M=0.793+-0.179, SD=0.044), SVM (M=0.793+-0.209, SD=0.051), DNN (M=0.791+-0.246, SD=0.060), KNN (M=0.781+-0.192, SD=0.047), and DT (M=0.657+-0.208, SD=0.051).\n",
      "The mean value of the population XGB is larger than of the populations SVM, KNN, and DT.\n",
      "The mean value of the population LGB is larger than of the populations KNN and DT.\n",
      "The mean value of the population ACNN is larger than of the populations SVM, KNN, and DT.\n",
      "The mean value of the population NB is larger than of the populations DT.\n",
      "The mean value of the population SVM is larger than of the populations DT.\n",
      "The mean value of the population DNN is larger than of the populations DT.\n",
      "The mean value of the population KNN is larger than of the populations DT.\n",
      "The following pairs of populations are equal: XGB and LGB.\n",
      "All other differences are inconclusive.\n"
     ]
    },
    {
     "ename": "ValueError",
     "evalue": "ploting results of bayesian analysis not yet supported.",
     "output_type": "error",
     "traceback": [
      "\u001b[1;31m---------------------------------------------------------------------------\u001b[0m",
      "\u001b[1;31mValueError\u001b[0m                                Traceback (most recent call last)",
      "Input \u001b[1;32mIn [20]\u001b[0m, in \u001b[0;36m<cell line: 2>\u001b[1;34m()\u001b[0m\n\u001b[0;32m      1\u001b[0m create_report(result)\n\u001b[1;32m----> 2\u001b[0m \u001b[43mplot_stats\u001b[49m\u001b[43m(\u001b[49m\u001b[43mresult\u001b[49m\u001b[43m)\u001b[49m\n\u001b[0;32m      3\u001b[0m plt\u001b[38;5;241m.\u001b[39mshow()\n",
      "File \u001b[1;32m~\\anaconda3\\lib\\site-packages\\autorank\\autorank.py:318\u001b[0m, in \u001b[0;36mplot_stats\u001b[1;34m(result, allow_insignificant, ax, width)\u001b[0m\n\u001b[0;32m    315\u001b[0m     \u001b[38;5;28;01mraise\u001b[39;00m \u001b[38;5;167;01mTypeError\u001b[39;00m(\u001b[38;5;124m\"\u001b[39m\u001b[38;5;124mresult must be of type RankResult and should be the outcome of calling the autorank function.\u001b[39m\u001b[38;5;124m\"\u001b[39m)\n\u001b[0;32m    317\u001b[0m \u001b[38;5;28;01mif\u001b[39;00m result\u001b[38;5;241m.\u001b[39momnibus \u001b[38;5;241m==\u001b[39m \u001b[38;5;124m'\u001b[39m\u001b[38;5;124mbayes\u001b[39m\u001b[38;5;124m'\u001b[39m:\n\u001b[1;32m--> 318\u001b[0m     \u001b[38;5;28;01mraise\u001b[39;00m \u001b[38;5;167;01mValueError\u001b[39;00m(\u001b[38;5;124m\"\u001b[39m\u001b[38;5;124mploting results of bayesian analysis not yet supported.\u001b[39m\u001b[38;5;124m\"\u001b[39m)\n\u001b[0;32m    320\u001b[0m \u001b[38;5;28;01mif\u001b[39;00m result\u001b[38;5;241m.\u001b[39mpvalue \u001b[38;5;241m>\u001b[39m\u001b[38;5;241m=\u001b[39m result\u001b[38;5;241m.\u001b[39malpha \u001b[38;5;129;01mand\u001b[39;00m \u001b[38;5;129;01mnot\u001b[39;00m allow_insignificant:\n\u001b[0;32m    321\u001b[0m     \u001b[38;5;28;01mraise\u001b[39;00m \u001b[38;5;167;01mValueError\u001b[39;00m(\n\u001b[0;32m    322\u001b[0m         \u001b[38;5;124m\"\u001b[39m\u001b[38;5;124mresult is not significant and results of the plot may be misleading. If you want to create the plot \u001b[39m\u001b[38;5;124m\"\u001b[39m\n\u001b[0;32m    323\u001b[0m         \u001b[38;5;124m\"\u001b[39m\u001b[38;5;124mregardless, use the allow_insignificant parameter to suppress this exception.\u001b[39m\u001b[38;5;124m\"\u001b[39m)\n",
      "\u001b[1;31mValueError\u001b[0m: ploting results of bayesian analysis not yet supported."
     ]
    }
   ],
   "source": [
    "create_report(result)\n",
    "plot_stats(result)\n",
    "plt.show()"
   ]
  },
  {
   "cell_type": "code",
   "execution_count": 22,
   "id": "657e7707",
   "metadata": {},
   "outputs": [
    {
     "name": "stdout",
     "output_type": "stream",
     "text": [
      "\\begin{table}[h]\n",
      "\\centering\n",
      "\\begin{tabular}{lrrlllrrl}\n",
      "\\toprule\n",
      "{} &     M &    SD &              CI &   \\$d\\$ &   Magnitude &  $P(\\textit{equal})$ &  $P(\\textit{smaller})$ &      Decision \\\\\n",
      "\\midrule\n",
      "XGB  & 0.813 & 0.047 &  [0.619, 1.006] & 0.000 &  negligible &        - &          - &             - \\\\\n",
      "LGB  & 0.812 & 0.048 &  [0.615, 1.009] & 0.016 &  negligible &    0.977 &      0.018 &         equal \\\\\n",
      "ACNN & 0.809 & 0.042 &  [0.635, 0.984] & 0.070 &  negligible &    0.367 &      0.399 &  inconclusive \\\\\n",
      "NB   & 0.793 & 0.044 &  [0.614, 0.972] & 0.424 &       small &    0.032 &      0.799 &  inconclusive \\\\\n",
      "SVM  & 0.793 & 0.051 &  [0.584, 1.002] & 0.404 &       small &    0.025 &      0.975 &       smaller \\\\\n",
      "DNN  & 0.791 & 0.060 &  [0.545, 1.036] & 0.404 &       small &    0.060 &      0.940 &  inconclusive \\\\\n",
      "KNN  & 0.781 & 0.047 &  [0.590, 0.973] & 0.671 &      medium &    0.016 &      0.984 &       smaller \\\\\n",
      "DT   & 0.657 & 0.051 &  [0.449, 0.866] & 3.171 &       large &    0.001 &      0.999 &       smaller \\\\\n",
      "\\bottomrule\n",
      "\\end{tabular}\n",
      "\\caption{Summary of populations}\n",
      "\\label{tbl:stat_results}\n",
      "\\end{table}\n"
     ]
    },
    {
     "name": "stderr",
     "output_type": "stream",
     "text": [
      "C:\\Users\\shubh\\anaconda3\\lib\\site-packages\\autorank\\autorank.py:697: FutureWarning: In future versions `DataFrame.to_latex` is expected to utilise the base implementation of `Styler.to_latex` for formatting and rendering. The arguments signature may therefore change. It is recommended instead to use `DataFrame.style.to_latex` which also contains additional functionality.\n",
      "  table_string = table_df.to_latex(float_format=float_format, na_rep='-').strip()\n"
     ]
    }
   ],
   "source": [
    "latex_table(result)"
   ]
  },
  {
   "cell_type": "code",
   "execution_count": null,
   "id": "b160a70e",
   "metadata": {},
   "outputs": [],
   "source": []
  }
 ],
 "metadata": {
  "kernelspec": {
   "display_name": "Python 3 (ipykernel)",
   "language": "python",
   "name": "python3"
  },
  "language_info": {
   "codemirror_mode": {
    "name": "ipython",
    "version": 3
   },
   "file_extension": ".py",
   "mimetype": "text/x-python",
   "name": "python",
   "nbconvert_exporter": "python",
   "pygments_lexer": "ipython3",
   "version": "3.9.12"
  }
 },
 "nbformat": 4,
 "nbformat_minor": 5
}
