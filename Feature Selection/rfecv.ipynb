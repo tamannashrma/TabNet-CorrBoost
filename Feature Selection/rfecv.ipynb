{
 "cells": [
  {
   "cell_type": "code",
   "execution_count": 2,
   "metadata": {},
   "outputs": [],
   "source": [
    "import os\n",
    "from sklearn.feature_selection import RFECV\n",
    "from sklearn.ensemble import RandomForestClassifier\n",
    "import pandas as pd"
   ]
  },
  {
   "cell_type": "code",
   "execution_count": 3,
   "metadata": {},
   "outputs": [],
   "source": [
    "df = pd.read_csv(\"C:/Users/shubh/Desktop/CorrBoost/Dataset/AEEEM/EQ.csv\")"
   ]
  },
  {
   "cell_type": "code",
   "execution_count": 4,
   "metadata": {},
   "outputs": [],
   "source": [
    "X = df.iloc[:,:-1]\n",
    "y = df.iloc[:,-1]"
   ]
  },
  {
   "cell_type": "code",
   "execution_count": 6,
   "metadata": {},
   "outputs": [],
   "source": [
    "estimator = RandomForestClassifier(random_state=0)\n",
    "selector = RFECV(estimator, step=1, cv=5)"
   ]
  },
  {
   "cell_type": "code",
   "execution_count": 14,
   "metadata": {},
   "outputs": [],
   "source": [
    "a = selector.fit_transform(X, y)"
   ]
  },
  {
   "cell_type": "code",
   "execution_count": 16,
   "metadata": {},
   "outputs": [
    {
     "data": {
      "text/plain": [
       "19"
      ]
     },
     "execution_count": 16,
     "metadata": {},
     "output_type": "execute_result"
    }
   ],
   "source": [
    "a.shape[1]"
   ]
  },
  {
   "cell_type": "code",
   "execution_count": 24,
   "metadata": {},
   "outputs": [],
   "source": [
    "loc = \"C:/Users/shubh/Desktop/CorrBoost/Dataset/NASA/\"\n",
    "estimator = RandomForestClassifier(random_state=0)\n",
    "selector = RFECV(estimator, step=1, cv=5)\n",
    "orig = []\n",
    "sel =[]\n",
    "f =[]\n",
    "for file in os.listdir(loc):\n",
    "    df = pd.read_csv(os.path.join(loc,file))\n",
    "    X = df.iloc[:,:-1]\n",
    "    orig.append(X.shape[1])\n",
    "    y = df.iloc[:,-1]\n",
    "    a = selector.fit_transform(X, y)\n",
    "    sel.append(a.shape[1])\n",
    "    f.append(file.split(\".\")[0])\n",
    "    \n",
    "    "
   ]
  },
  {
   "cell_type": "code",
   "execution_count": 25,
   "metadata": {},
   "outputs": [],
   "source": [
    "dz = pd.DataFrame()\n",
    "dz = pd.concat([pd.Series(f),pd.Series(orig),pd.Series(sel)],axis=1)\n",
    "dz.to_csv(\"NASA_RFECV.csv\")"
   ]
  },
  {
   "cell_type": "code",
   "execution_count": 26,
   "metadata": {},
   "outputs": [],
   "source": [
    "loc = \"C:/Users/shubh/Desktop/CorrBoost/Dataset/NASA/\"\n",
    "orig=[]\n",
    "for file in os.listdir(loc):\n",
    "    df = pd.read_csv(os.path.join(loc,file))\n",
    "    X = df.iloc[:,:-1]\n",
    "    orig.append(X.shape[1])"
   ]
  },
  {
   "cell_type": "code",
   "execution_count": 27,
   "metadata": {},
   "outputs": [
    {
     "data": {
      "text/plain": [
       "[37, 21, 39, 38, 39, 37, 37, 36, 37, 37]"
      ]
     },
     "execution_count": 27,
     "metadata": {},
     "output_type": "execute_result"
    }
   ],
   "source": [
    "orig"
   ]
  }
 ],
 "metadata": {
  "kernelspec": {
   "display_name": "Python 3",
   "language": "python",
   "name": "python3"
  },
  "language_info": {
   "codemirror_mode": {
    "name": "ipython",
    "version": 3
   },
   "file_extension": ".py",
   "mimetype": "text/x-python",
   "name": "python",
   "nbconvert_exporter": "python",
   "pygments_lexer": "ipython3",
   "version": "3.11.4"
  }
 },
 "nbformat": 4,
 "nbformat_minor": 2
}
